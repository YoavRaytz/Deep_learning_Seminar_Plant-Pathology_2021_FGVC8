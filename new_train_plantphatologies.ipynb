{
  "nbformat": 4,
  "nbformat_minor": 0,
  "metadata": {
    "colab": {
      "name": "new_train_plantphatologies.ipynb",
      "provenance": [],
      "machine_shape": "hm"
    },
    "kernelspec": {
      "name": "python3",
      "display_name": "Python 3"
    },
    "language_info": {
      "name": "python"
    },
    "accelerator": "GPU",
    "widgets": {
      "application/vnd.jupyter.widget-state+json": {
        "4aafd0abcb44451393f9d1dd023c419e": {
          "model_module": "@jupyter-widgets/controls",
          "model_name": "HBoxModel",
          "model_module_version": "1.5.0",
          "state": {
            "_view_name": "HBoxView",
            "_dom_classes": [],
            "_model_name": "HBoxModel",
            "_view_module": "@jupyter-widgets/controls",
            "_model_module_version": "1.5.0",
            "_view_count": null,
            "_view_module_version": "1.5.0",
            "box_style": "",
            "layout": "IPY_MODEL_fd5905358bca4bd9abfac13b0d951a3c",
            "_model_module": "@jupyter-widgets/controls",
            "children": [
              "IPY_MODEL_a6a047d5b9e2492e8f3f83fbdb73ca89",
              "IPY_MODEL_00911da7cb2f48deaca5f7d8df6769a9",
              "IPY_MODEL_6e49bbe3084f46acb75d74f687b6d8ce"
            ]
          }
        },
        "fd5905358bca4bd9abfac13b0d951a3c": {
          "model_module": "@jupyter-widgets/base",
          "model_name": "LayoutModel",
          "model_module_version": "1.2.0",
          "state": {
            "_view_name": "LayoutView",
            "grid_template_rows": null,
            "right": null,
            "justify_content": null,
            "_view_module": "@jupyter-widgets/base",
            "overflow": null,
            "_model_module_version": "1.2.0",
            "_view_count": null,
            "flex_flow": null,
            "width": null,
            "min_width": null,
            "border": null,
            "align_items": null,
            "bottom": null,
            "_model_module": "@jupyter-widgets/base",
            "top": null,
            "grid_column": null,
            "overflow_y": null,
            "overflow_x": null,
            "grid_auto_flow": null,
            "grid_area": null,
            "grid_template_columns": null,
            "flex": null,
            "_model_name": "LayoutModel",
            "justify_items": null,
            "grid_row": null,
            "max_height": null,
            "align_content": null,
            "visibility": null,
            "align_self": null,
            "height": null,
            "min_height": null,
            "padding": null,
            "grid_auto_rows": null,
            "grid_gap": null,
            "max_width": null,
            "order": null,
            "_view_module_version": "1.2.0",
            "grid_template_areas": null,
            "object_position": null,
            "object_fit": null,
            "grid_auto_columns": null,
            "margin": null,
            "display": null,
            "left": null
          }
        },
        "a6a047d5b9e2492e8f3f83fbdb73ca89": {
          "model_module": "@jupyter-widgets/controls",
          "model_name": "HTMLModel",
          "model_module_version": "1.5.0",
          "state": {
            "_view_name": "HTMLView",
            "style": "IPY_MODEL_8ca766cbbabf46ecadbd46ac9b3f7895",
            "_dom_classes": [],
            "description": "",
            "_model_name": "HTMLModel",
            "placeholder": "​",
            "_view_module": "@jupyter-widgets/controls",
            "_model_module_version": "1.5.0",
            "value": "100%",
            "_view_count": null,
            "_view_module_version": "1.5.0",
            "description_tooltip": null,
            "_model_module": "@jupyter-widgets/controls",
            "layout": "IPY_MODEL_9960282ec7894a9b9f1b0a352a1d1822"
          }
        },
        "00911da7cb2f48deaca5f7d8df6769a9": {
          "model_module": "@jupyter-widgets/controls",
          "model_name": "FloatProgressModel",
          "model_module_version": "1.5.0",
          "state": {
            "_view_name": "ProgressView",
            "style": "IPY_MODEL_e570d2171b6b41ad9bec0bc1245715be",
            "_dom_classes": [],
            "description": "",
            "_model_name": "FloatProgressModel",
            "bar_style": "success",
            "max": 102530333,
            "_view_module": "@jupyter-widgets/controls",
            "_model_module_version": "1.5.0",
            "value": 102530333,
            "_view_count": null,
            "_view_module_version": "1.5.0",
            "orientation": "horizontal",
            "min": 0,
            "description_tooltip": null,
            "_model_module": "@jupyter-widgets/controls",
            "layout": "IPY_MODEL_ff8822fb004d47459489bba24932d01c"
          }
        },
        "6e49bbe3084f46acb75d74f687b6d8ce": {
          "model_module": "@jupyter-widgets/controls",
          "model_name": "HTMLModel",
          "model_module_version": "1.5.0",
          "state": {
            "_view_name": "HTMLView",
            "style": "IPY_MODEL_38369c42963644c1b281ea60f467993a",
            "_dom_classes": [],
            "description": "",
            "_model_name": "HTMLModel",
            "placeholder": "​",
            "_view_module": "@jupyter-widgets/controls",
            "_model_module_version": "1.5.0",
            "value": " 97.8M/97.8M [00:01&lt;00:00, 87.8MB/s]",
            "_view_count": null,
            "_view_module_version": "1.5.0",
            "description_tooltip": null,
            "_model_module": "@jupyter-widgets/controls",
            "layout": "IPY_MODEL_81c7c80801234d47827f6d81258fabe9"
          }
        },
        "8ca766cbbabf46ecadbd46ac9b3f7895": {
          "model_module": "@jupyter-widgets/controls",
          "model_name": "DescriptionStyleModel",
          "model_module_version": "1.5.0",
          "state": {
            "_view_name": "StyleView",
            "_model_name": "DescriptionStyleModel",
            "description_width": "",
            "_view_module": "@jupyter-widgets/base",
            "_model_module_version": "1.5.0",
            "_view_count": null,
            "_view_module_version": "1.2.0",
            "_model_module": "@jupyter-widgets/controls"
          }
        },
        "9960282ec7894a9b9f1b0a352a1d1822": {
          "model_module": "@jupyter-widgets/base",
          "model_name": "LayoutModel",
          "model_module_version": "1.2.0",
          "state": {
            "_view_name": "LayoutView",
            "grid_template_rows": null,
            "right": null,
            "justify_content": null,
            "_view_module": "@jupyter-widgets/base",
            "overflow": null,
            "_model_module_version": "1.2.0",
            "_view_count": null,
            "flex_flow": null,
            "width": null,
            "min_width": null,
            "border": null,
            "align_items": null,
            "bottom": null,
            "_model_module": "@jupyter-widgets/base",
            "top": null,
            "grid_column": null,
            "overflow_y": null,
            "overflow_x": null,
            "grid_auto_flow": null,
            "grid_area": null,
            "grid_template_columns": null,
            "flex": null,
            "_model_name": "LayoutModel",
            "justify_items": null,
            "grid_row": null,
            "max_height": null,
            "align_content": null,
            "visibility": null,
            "align_self": null,
            "height": null,
            "min_height": null,
            "padding": null,
            "grid_auto_rows": null,
            "grid_gap": null,
            "max_width": null,
            "order": null,
            "_view_module_version": "1.2.0",
            "grid_template_areas": null,
            "object_position": null,
            "object_fit": null,
            "grid_auto_columns": null,
            "margin": null,
            "display": null,
            "left": null
          }
        },
        "e570d2171b6b41ad9bec0bc1245715be": {
          "model_module": "@jupyter-widgets/controls",
          "model_name": "ProgressStyleModel",
          "model_module_version": "1.5.0",
          "state": {
            "_view_name": "StyleView",
            "_model_name": "ProgressStyleModel",
            "description_width": "",
            "_view_module": "@jupyter-widgets/base",
            "_model_module_version": "1.5.0",
            "_view_count": null,
            "_view_module_version": "1.2.0",
            "bar_color": null,
            "_model_module": "@jupyter-widgets/controls"
          }
        },
        "ff8822fb004d47459489bba24932d01c": {
          "model_module": "@jupyter-widgets/base",
          "model_name": "LayoutModel",
          "model_module_version": "1.2.0",
          "state": {
            "_view_name": "LayoutView",
            "grid_template_rows": null,
            "right": null,
            "justify_content": null,
            "_view_module": "@jupyter-widgets/base",
            "overflow": null,
            "_model_module_version": "1.2.0",
            "_view_count": null,
            "flex_flow": null,
            "width": null,
            "min_width": null,
            "border": null,
            "align_items": null,
            "bottom": null,
            "_model_module": "@jupyter-widgets/base",
            "top": null,
            "grid_column": null,
            "overflow_y": null,
            "overflow_x": null,
            "grid_auto_flow": null,
            "grid_area": null,
            "grid_template_columns": null,
            "flex": null,
            "_model_name": "LayoutModel",
            "justify_items": null,
            "grid_row": null,
            "max_height": null,
            "align_content": null,
            "visibility": null,
            "align_self": null,
            "height": null,
            "min_height": null,
            "padding": null,
            "grid_auto_rows": null,
            "grid_gap": null,
            "max_width": null,
            "order": null,
            "_view_module_version": "1.2.0",
            "grid_template_areas": null,
            "object_position": null,
            "object_fit": null,
            "grid_auto_columns": null,
            "margin": null,
            "display": null,
            "left": null
          }
        },
        "38369c42963644c1b281ea60f467993a": {
          "model_module": "@jupyter-widgets/controls",
          "model_name": "DescriptionStyleModel",
          "model_module_version": "1.5.0",
          "state": {
            "_view_name": "StyleView",
            "_model_name": "DescriptionStyleModel",
            "description_width": "",
            "_view_module": "@jupyter-widgets/base",
            "_model_module_version": "1.5.0",
            "_view_count": null,
            "_view_module_version": "1.2.0",
            "_model_module": "@jupyter-widgets/controls"
          }
        },
        "81c7c80801234d47827f6d81258fabe9": {
          "model_module": "@jupyter-widgets/base",
          "model_name": "LayoutModel",
          "model_module_version": "1.2.0",
          "state": {
            "_view_name": "LayoutView",
            "grid_template_rows": null,
            "right": null,
            "justify_content": null,
            "_view_module": "@jupyter-widgets/base",
            "overflow": null,
            "_model_module_version": "1.2.0",
            "_view_count": null,
            "flex_flow": null,
            "width": null,
            "min_width": null,
            "border": null,
            "align_items": null,
            "bottom": null,
            "_model_module": "@jupyter-widgets/base",
            "top": null,
            "grid_column": null,
            "overflow_y": null,
            "overflow_x": null,
            "grid_auto_flow": null,
            "grid_area": null,
            "grid_template_columns": null,
            "flex": null,
            "_model_name": "LayoutModel",
            "justify_items": null,
            "grid_row": null,
            "max_height": null,
            "align_content": null,
            "visibility": null,
            "align_self": null,
            "height": null,
            "min_height": null,
            "padding": null,
            "grid_auto_rows": null,
            "grid_gap": null,
            "max_width": null,
            "order": null,
            "_view_module_version": "1.2.0",
            "grid_template_areas": null,
            "object_position": null,
            "object_fit": null,
            "grid_auto_columns": null,
            "margin": null,
            "display": null,
            "left": null
          }
        }
      }
    }
  },
  "cells": [
    {
      "cell_type": "code",
      "execution_count": null,
      "metadata": {
        "id": "Tndzm_XY5KHX"
      },
      "outputs": [],
      "source": [
        "!pip install albumentations==0.4.6\n",
        "!pip install tensorboard>=2.4.1"
      ]
    },
    {
      "cell_type": "code",
      "source": [
        "%cd '/content/drive/MyDrive/Colab Notebooks/Plant_Pathology'\n",
        "from typing import List, Dict\n",
        "\n",
        "import random\n",
        "import os\n",
        "\n",
        "import numpy as np\n",
        "import pandas as pd\n",
        "import PIL\n",
        "\n",
        "import albumentations as A\n",
        "from albumentations.pytorch import ToTensorV2\n",
        "\n",
        "import torchvision\n",
        "import torch.onnx\n",
        "import torch.nn as nn\n",
        "import torch.nn.functional as F\n",
        "import torch.optim as optim\n",
        "from torchvision import transforms as T\n",
        "\n",
        "import skimage.io as io\n",
        "from tqdm.notebook import tqdm\n",
        "import torch\n",
        "from insectAug import InsectAugmentation\n"
      ],
      "metadata": {
        "id": "6kgUQHvw5P_j",
        "colab": {
          "base_uri": "https://localhost:8080/"
        },
        "outputId": "3a9de202-064e-437c-fdfc-d264c1e92082"
      },
      "execution_count": 17,
      "outputs": [
        {
          "output_type": "stream",
          "name": "stdout",
          "text": [
            "/content/drive/MyDrive/Colab Notebooks/Plant_Pathology\n"
          ]
        }
      ]
    },
    {
      "cell_type": "code",
      "source": [
        "import seaborn as sns\n",
        "import matplotlib.pyplot as plt\n",
        "\n",
        "plt.rc('font', size=15)\n",
        "plt.rc('axes', titlesize=18)  \n",
        "plt.rc('xtick', labelsize=10)  \n",
        "plt.rc('ytick', labelsize=10)"
      ],
      "metadata": {
        "id": "QowMmkD05fl1"
      },
      "execution_count": 4,
      "outputs": []
    },
    {
      "cell_type": "code",
      "source": [
        "class Config: \n",
        "    \"\"\"\n",
        "    \"\"\"\n",
        "    DEVICE = 'cuda' if torch.cuda.is_available() else 'cpu'\n",
        "    INPUT_PATH = '/content/drive/MyDrive/Colab Notebooks/Plant_Pathology/data'\n",
        "    OUTPUT_PATH = './'\n",
        "    N_EPOCH = 30\n",
        "    BATCH_SIZE = 16\n",
        "    TEST_SIZE = 0.2\n",
        "    RANDOM_STATE = 42\n",
        "    SAMPLE_FRAC = 1.0\n",
        "    IMG_SIZE = 224\n",
        "    LEARNING_RATE = 0.0042319 #for resnet50\n",
        "    TRAIN_DATA_FILE = os.path.join(INPUT_PATH, 'train.csv')\n",
        "    MODEL_ONNX_FILE = os.path.join(OUTPUT_PATH, f'plant2021_{DEVICE}.onnx')\n",
        "    INPUT_MODEL_FILE = os.path.join(INPUT_PATH, f'plant2021_{DEVICE}.pth') \n",
        "    OUTPUT_MODEL_FILE = os.path.join(OUTPUT_PATH, f'plant2021_{DEVICE}.pth')\n",
        "    CLASS_THRESHOLD = 0.4\n",
        "    CLASSES = [\n",
        "        'rust', \n",
        "        'complex', \n",
        "        'healthy', \n",
        "        'powdery_mildew', \n",
        "        'scab', \n",
        "        'frog_eye_leaf_spot'\n",
        "    ]\n",
        "    N_CLASSES = len(CLASSES)\n",
        "    \n",
        "    folders = dict({\n",
        "        'data': INPUT_PATH,\n",
        "        'train': os.path.join(INPUT_PATH, 'train_images'),\n",
        "        'val': os.path.join(INPUT_PATH, 'train_images'),\n",
        "        'test':  os.path.join(INPUT_PATH, 'test_images')\n",
        "    })\n",
        "    \n",
        "    @staticmethod\n",
        "    def set_seed():\n",
        "        torch.manual_seed(Config.RANDOM_STATE)\n",
        "        random.seed(Config.RANDOM_STATE)\n",
        "        np.random.seed(Config.RANDOM_STATE)\n",
        "        \n",
        "Config.set_seed() "
      ],
      "metadata": {
        "id": "AP89NA6g5rNz"
      },
      "execution_count": 5,
      "outputs": []
    },
    {
      "cell_type": "code",
      "source": [
        "def to_numpy(tensor):\n",
        "    \"\"\"Auxiliary function to convert tensors into numpy arrays\n",
        "    \"\"\"\n",
        "    return tensor.detach().cpu().numpy() if tensor.requires_grad else tensor.cpu().numpy()"
      ],
      "metadata": {
        "id": "MU8n9DMZ6joF"
      },
      "execution_count": 6,
      "outputs": []
    },
    {
      "cell_type": "code",
      "source": [
        "def read_image_labels():\n",
        "    \"\"\"\n",
        "    \"\"\"\n",
        "    df = pd.read_csv(Config.TRAIN_DATA_FILE).set_index('image')\n",
        "    return df"
      ],
      "metadata": {
        "id": "JjgJdgaO6nVu"
      },
      "execution_count": 7,
      "outputs": []
    },
    {
      "cell_type": "code",
      "source": [
        "img_labels = read_image_labels().sample(\n",
        "    frac=Config.SAMPLE_FRAC, \n",
        "    random_state=Config.RANDOM_STATE\n",
        ")"
      ],
      "metadata": {
        "id": "b-T_Ap-p6o-f"
      },
      "execution_count": 8,
      "outputs": []
    },
    {
      "cell_type": "code",
      "source": [
        "def get_single_labels(unique_labels) -> List[str]:\n",
        "    \"\"\"Splitting multi-labels and returning a list of classes\"\"\"\n",
        "    single_labels = []\n",
        "    \n",
        "    for label in unique_labels:\n",
        "        single_labels += label.split()\n",
        "        \n",
        "    single_labels = set(single_labels)\n",
        "    return list(single_labels)"
      ],
      "metadata": {
        "id": "G3xgFtNt63IG"
      },
      "execution_count": 10,
      "outputs": []
    },
    {
      "cell_type": "code",
      "source": [
        "def get_one_hot_encoded_labels(dataset_df) -> pd.DataFrame:\n",
        "    \"\"\"\n",
        "    \"\"\"\n",
        "    df = dataset_df.copy()\n",
        "    \n",
        "    unique_labels = df.labels.unique()\n",
        "    column_names = get_single_labels(unique_labels)\n",
        "    \n",
        "    df[column_names] = 0        \n",
        "    \n",
        "    # one-hot-encoding\n",
        "    for label in unique_labels:                \n",
        "        label_indices = df[df['labels'] == label].index\n",
        "        splited_labels = label.split()\n",
        "        df.loc[label_indices, splited_labels] = 1\n",
        "    \n",
        "    return df"
      ],
      "metadata": {
        "id": "HQjRrWWq65Bf"
      },
      "execution_count": 11,
      "outputs": []
    },
    {
      "cell_type": "code",
      "source": [
        "one_hot_encoded_labels = get_one_hot_encoded_labels(img_labels)\n",
        "one_hot_encoded_labels.head()"
      ],
      "metadata": {
        "colab": {
          "base_uri": "https://localhost:8080/",
          "height": 238
        },
        "id": "pDPskxcu66h2",
        "outputId": "4009f945-97c0-4e21-cb57-e51ee3b54597"
      },
      "execution_count": 12,
      "outputs": [
        {
          "output_type": "execute_result",
          "data": {
            "text/html": [
              "\n",
              "  <div id=\"df-cfdcf5f2-9454-4954-ba29-2406618f1f1a\">\n",
              "    <div class=\"colab-df-container\">\n",
              "      <div>\n",
              "<style scoped>\n",
              "    .dataframe tbody tr th:only-of-type {\n",
              "        vertical-align: middle;\n",
              "    }\n",
              "\n",
              "    .dataframe tbody tr th {\n",
              "        vertical-align: top;\n",
              "    }\n",
              "\n",
              "    .dataframe thead th {\n",
              "        text-align: right;\n",
              "    }\n",
              "</style>\n",
              "<table border=\"1\" class=\"dataframe\">\n",
              "  <thead>\n",
              "    <tr style=\"text-align: right;\">\n",
              "      <th></th>\n",
              "      <th>labels</th>\n",
              "      <th>complex</th>\n",
              "      <th>healthy</th>\n",
              "      <th>scab</th>\n",
              "      <th>rust</th>\n",
              "      <th>powdery_mildew</th>\n",
              "      <th>frog_eye_leaf_spot</th>\n",
              "    </tr>\n",
              "    <tr>\n",
              "      <th>image</th>\n",
              "      <th></th>\n",
              "      <th></th>\n",
              "      <th></th>\n",
              "      <th></th>\n",
              "      <th></th>\n",
              "      <th></th>\n",
              "      <th></th>\n",
              "    </tr>\n",
              "  </thead>\n",
              "  <tbody>\n",
              "    <tr>\n",
              "      <th>ae7a52cc3cc3241f.jpg</th>\n",
              "      <td>healthy</td>\n",
              "      <td>0</td>\n",
              "      <td>1</td>\n",
              "      <td>0</td>\n",
              "      <td>0</td>\n",
              "      <td>0</td>\n",
              "      <td>0</td>\n",
              "    </tr>\n",
              "    <tr>\n",
              "      <th>b2a08e9bf8f061a7.jpg</th>\n",
              "      <td>scab frog_eye_leaf_spot</td>\n",
              "      <td>0</td>\n",
              "      <td>0</td>\n",
              "      <td>1</td>\n",
              "      <td>0</td>\n",
              "      <td>0</td>\n",
              "      <td>1</td>\n",
              "    </tr>\n",
              "    <tr>\n",
              "      <th>806878cdcb8df99a.jpg</th>\n",
              "      <td>scab frog_eye_leaf_spot complex</td>\n",
              "      <td>1</td>\n",
              "      <td>0</td>\n",
              "      <td>1</td>\n",
              "      <td>0</td>\n",
              "      <td>0</td>\n",
              "      <td>1</td>\n",
              "    </tr>\n",
              "    <tr>\n",
              "      <th>f5139361351a6b99.jpg</th>\n",
              "      <td>powdery_mildew complex</td>\n",
              "      <td>1</td>\n",
              "      <td>0</td>\n",
              "      <td>0</td>\n",
              "      <td>0</td>\n",
              "      <td>1</td>\n",
              "      <td>0</td>\n",
              "    </tr>\n",
              "    <tr>\n",
              "      <th>a39bd3c311438f3c.jpg</th>\n",
              "      <td>healthy</td>\n",
              "      <td>0</td>\n",
              "      <td>1</td>\n",
              "      <td>0</td>\n",
              "      <td>0</td>\n",
              "      <td>0</td>\n",
              "      <td>0</td>\n",
              "    </tr>\n",
              "  </tbody>\n",
              "</table>\n",
              "</div>\n",
              "      <button class=\"colab-df-convert\" onclick=\"convertToInteractive('df-cfdcf5f2-9454-4954-ba29-2406618f1f1a')\"\n",
              "              title=\"Convert this dataframe to an interactive table.\"\n",
              "              style=\"display:none;\">\n",
              "        \n",
              "  <svg xmlns=\"http://www.w3.org/2000/svg\" height=\"24px\"viewBox=\"0 0 24 24\"\n",
              "       width=\"24px\">\n",
              "    <path d=\"M0 0h24v24H0V0z\" fill=\"none\"/>\n",
              "    <path d=\"M18.56 5.44l.94 2.06.94-2.06 2.06-.94-2.06-.94-.94-2.06-.94 2.06-2.06.94zm-11 1L8.5 8.5l.94-2.06 2.06-.94-2.06-.94L8.5 2.5l-.94 2.06-2.06.94zm10 10l.94 2.06.94-2.06 2.06-.94-2.06-.94-.94-2.06-.94 2.06-2.06.94z\"/><path d=\"M17.41 7.96l-1.37-1.37c-.4-.4-.92-.59-1.43-.59-.52 0-1.04.2-1.43.59L10.3 9.45l-7.72 7.72c-.78.78-.78 2.05 0 2.83L4 21.41c.39.39.9.59 1.41.59.51 0 1.02-.2 1.41-.59l7.78-7.78 2.81-2.81c.8-.78.8-2.07 0-2.86zM5.41 20L4 18.59l7.72-7.72 1.47 1.35L5.41 20z\"/>\n",
              "  </svg>\n",
              "      </button>\n",
              "      \n",
              "  <style>\n",
              "    .colab-df-container {\n",
              "      display:flex;\n",
              "      flex-wrap:wrap;\n",
              "      gap: 12px;\n",
              "    }\n",
              "\n",
              "    .colab-df-convert {\n",
              "      background-color: #E8F0FE;\n",
              "      border: none;\n",
              "      border-radius: 50%;\n",
              "      cursor: pointer;\n",
              "      display: none;\n",
              "      fill: #1967D2;\n",
              "      height: 32px;\n",
              "      padding: 0 0 0 0;\n",
              "      width: 32px;\n",
              "    }\n",
              "\n",
              "    .colab-df-convert:hover {\n",
              "      background-color: #E2EBFA;\n",
              "      box-shadow: 0px 1px 2px rgba(60, 64, 67, 0.3), 0px 1px 3px 1px rgba(60, 64, 67, 0.15);\n",
              "      fill: #174EA6;\n",
              "    }\n",
              "\n",
              "    [theme=dark] .colab-df-convert {\n",
              "      background-color: #3B4455;\n",
              "      fill: #D2E3FC;\n",
              "    }\n",
              "\n",
              "    [theme=dark] .colab-df-convert:hover {\n",
              "      background-color: #434B5C;\n",
              "      box-shadow: 0px 1px 3px 1px rgba(0, 0, 0, 0.15);\n",
              "      filter: drop-shadow(0px 1px 2px rgba(0, 0, 0, 0.3));\n",
              "      fill: #FFFFFF;\n",
              "    }\n",
              "  </style>\n",
              "\n",
              "      <script>\n",
              "        const buttonEl =\n",
              "          document.querySelector('#df-cfdcf5f2-9454-4954-ba29-2406618f1f1a button.colab-df-convert');\n",
              "        buttonEl.style.display =\n",
              "          google.colab.kernel.accessAllowed ? 'block' : 'none';\n",
              "\n",
              "        async function convertToInteractive(key) {\n",
              "          const element = document.querySelector('#df-cfdcf5f2-9454-4954-ba29-2406618f1f1a');\n",
              "          const dataTable =\n",
              "            await google.colab.kernel.invokeFunction('convertToInteractive',\n",
              "                                                     [key], {});\n",
              "          if (!dataTable) return;\n",
              "\n",
              "          const docLinkHtml = 'Like what you see? Visit the ' +\n",
              "            '<a target=\"_blank\" href=https://colab.research.google.com/notebooks/data_table.ipynb>data table notebook</a>'\n",
              "            + ' to learn more about interactive tables.';\n",
              "          element.innerHTML = '';\n",
              "          dataTable['output_type'] = 'display_data';\n",
              "          await google.colab.output.renderOutput(dataTable, element);\n",
              "          const docLink = document.createElement('div');\n",
              "          docLink.innerHTML = docLinkHtml;\n",
              "          element.appendChild(docLink);\n",
              "        }\n",
              "      </script>\n",
              "    </div>\n",
              "  </div>\n",
              "  "
            ],
            "text/plain": [
              "                                               labels  ...  frog_eye_leaf_spot\n",
              "image                                                  ...                    \n",
              "ae7a52cc3cc3241f.jpg                          healthy  ...                   0\n",
              "b2a08e9bf8f061a7.jpg          scab frog_eye_leaf_spot  ...                   1\n",
              "806878cdcb8df99a.jpg  scab frog_eye_leaf_spot complex  ...                   1\n",
              "f5139361351a6b99.jpg           powdery_mildew complex  ...                   0\n",
              "a39bd3c311438f3c.jpg                          healthy  ...                   0\n",
              "\n",
              "[5 rows x 7 columns]"
            ]
          },
          "metadata": {},
          "execution_count": 12
        }
      ]
    },
    {
      "cell_type": "code",
      "source": [
        "def get_image(image_id, kind='train'):\n",
        "    \"\"\"Loads an image from file\n",
        "    \"\"\"\n",
        "    fname = os.path.join(Config.folders[kind], image_id)\n",
        "    return PIL.Image.open(fname)"
      ],
      "metadata": {
        "id": "cVOs0D4W6796"
      },
      "execution_count": 13,
      "outputs": []
    },
    {
      "cell_type": "code",
      "source": [
        "def visualize_images(image_ids, labels, nrows=1, ncols=4, kind='train', image_transform=None):\n",
        "    \"\"\"\n",
        "    \"\"\"\n",
        "    fig, axes = plt.subplots(nrows=nrows, ncols=ncols, figsize=(20, 8))\n",
        "    for image_id, label, ax in zip(image_ids, labels, axes.flatten()):\n",
        "        \n",
        "        fname = os.path.join(Config.folders[kind], image_id)\n",
        "        image = np.array(PIL.Image.open(fname))\n",
        "        \n",
        "        if image_transform:\n",
        "            image = transform = A.Compose(\n",
        "                [t for t in image_transform.transforms if not isinstance(t, (\n",
        "                    A.Normalize, \n",
        "                    ToTensorV2\n",
        "                ))])(image=image)['image']\n",
        "        \n",
        "        io.imshow(image, ax=ax)\n",
        "        \n",
        "        ax.set_title(f\"Class: {label}\", fontsize=12)\n",
        "        ax.get_xaxis().set_visible(False)\n",
        "        ax.get_yaxis().set_visible(False)\n",
        "        \n",
        "        del image\n",
        "        \n",
        "    plt.show()"
      ],
      "metadata": {
        "id": "Lk-vXt2W6-qS"
      },
      "execution_count": 14,
      "outputs": []
    },
    {
      "cell_type": "code",
      "source": [
        "# visualize_images(img_labels.index, img_labels.labels, nrows=2, ncols=4)"
      ],
      "metadata": {
        "id": "j1-7Sshr7A_Y"
      },
      "execution_count": 15,
      "outputs": []
    },
    {
      "cell_type": "code",
      "source": [
        "train_transform = A.Compose([\n",
        "A.OneOf([\n",
        "       A.Rotate( \n",
        "            limit=(-68, 178), \n",
        "            interpolation=1, \n",
        "            border_mode=1, \n",
        "            mask_value=None),\n",
        "        A.ShiftScaleRotate(\n",
        "            shift_limit=0.2, \n",
        "            scale_limit=0.2, \n",
        "            rotate_limit=90)]),\n",
        "A.OneOf([\n",
        "       InsectAugmentation(insects=5),\n",
        "       A.CoarseDropout(\n",
        "            max_holes=5, \n",
        "            max_height=7, \n",
        "            max_width=7, \n",
        "            min_holes=3, \n",
        "            min_height=5, \n",
        "            min_width=5),\n",
        "        A.RandomShadow(\n",
        "            num_shadows_lower=1, \n",
        "            num_shadows_upper=3, \n",
        "            shadow_dimension=5)\n",
        "        ]),\n",
        "A.OneOf([\n",
        "        A.RandomFog(\n",
        "            fog_coef_lower=0.2, \n",
        "            fog_coef_upper=0.5, \n",
        "            alpha_coef=0.3),\n",
        "        A.CLAHE(),\n",
        "        A.RandomBrightnessContrast(),\n",
        "        A.RGBShift(\n",
        "            r_shift_limit=20, \n",
        "            g_shift_limit=20, \n",
        "            b_shift_limit=20),\n",
        "        A.GaussNoise(\n",
        "            var_limit=(100, 170))]),\n",
        "        A.Normalize(\n",
        "            mean=(0.485, 0.456, 0.406), \n",
        "            std=(0.229, 0.224, 0.225)),\n",
        "        ToTensorV2()])\n",
        "\n",
        "\n",
        "val_transform = A.Compose([\n",
        "    A.Resize(\n",
        "        height=Config.IMG_SIZE,\n",
        "        width=Config.IMG_SIZE,\n",
        "    ),\n",
        "    A.Normalize(\n",
        "        mean=(0.485, 0.456, 0.406), \n",
        "        std=(0.229, 0.224, 0.225)\n",
        "    ),\n",
        "    ToTensorV2(),\n",
        "])"
      ],
      "metadata": {
        "id": "WHa-W5ofBy1j"
      },
      "execution_count": 18,
      "outputs": []
    },
    {
      "cell_type": "code",
      "source": [
        "from scipy.stats import bernoulli\n",
        "from torch.utils.data import Dataset\n",
        "\n",
        "class PlantDataset(Dataset):\n",
        "    \"\"\"\n",
        "    \"\"\"\n",
        "    def __init__(self, \n",
        "                 image_ids, \n",
        "                 targets,\n",
        "                 transform=None, \n",
        "                 target_transform=None, \n",
        "                 kind='train'):\n",
        "        self.image_ids = image_ids\n",
        "        self.targets = targets\n",
        "        self.transform = transform\n",
        "        self.target_transform = target_transform\n",
        "        self.kind = kind\n",
        "    \n",
        "    def __len__(self):\n",
        "        return len(self.image_ids)\n",
        "    \n",
        "    def __getitem__(self, idx):\n",
        "        # load and transform image\n",
        "        img = np.array(get_image(self.image_ids.iloc[idx], kind=self.kind))\n",
        "        \n",
        "        if self.transform:\n",
        "            img = self.transform(image=img)['image']\n",
        "        \n",
        "        # get image target \n",
        "        target = self.targets[idx]\n",
        "        if self.target_transform:\n",
        "            target = self.target_transform(target)\n",
        "        \n",
        "        return img, target"
      ],
      "metadata": {
        "id": "xyUnb42c7Men"
      },
      "execution_count": 19,
      "outputs": []
    },
    {
      "cell_type": "code",
      "source": [
        "from sklearn.model_selection import train_test_split\n",
        "\n",
        "X_train, X_vaild, y_train, y_vaild = train_test_split(\n",
        "    pd.Series(img_labels.index), \n",
        "    np.array(one_hot_encoded_labels[Config.CLASSES]),  \n",
        "    test_size=Config.TEST_SIZE, \n",
        "    random_state=Config.RANDOM_STATE\n",
        ")"
      ],
      "metadata": {
        "id": "otmvHjr37bR9"
      },
      "execution_count": 20,
      "outputs": []
    },
    {
      "cell_type": "code",
      "source": [
        "train_set = PlantDataset(X_train, y_train, transform=train_transform, kind='train')\n",
        "val_set = PlantDataset(X_vaild, y_vaild, transform=val_transform, kind='val')"
      ],
      "metadata": {
        "id": "OPyBuOOR7pLJ"
      },
      "execution_count": 21,
      "outputs": []
    },
    {
      "cell_type": "code",
      "source": [
        "print(f'Train size: {len(train_set)}')\n",
        "print(f'Validation size: {len(val_set)}')"
      ],
      "metadata": {
        "colab": {
          "base_uri": "https://localhost:8080/"
        },
        "id": "IO90rE3n7tAs",
        "outputId": "30abd1d5-623d-4b2e-8096-9c8a7d56de06"
      },
      "execution_count": 22,
      "outputs": [
        {
          "output_type": "stream",
          "name": "stdout",
          "text": [
            "Train size: 14905\n",
            "Validation size: 3727\n"
          ]
        }
      ]
    },
    {
      "cell_type": "code",
      "source": [
        "from torch.utils.data import DataLoader\n",
        "from torch.nn import BatchNorm2d\n",
        "\n",
        "train_loader = DataLoader(train_set, batch_size=Config.BATCH_SIZE, shuffle=True)\n",
        "valid_loader = DataLoader(val_set, batch_size=Config.BATCH_SIZE, shuffle=True)"
      ],
      "metadata": {
        "id": "FqDL8CqY70a7"
      },
      "execution_count": 23,
      "outputs": []
    },
    {
      "cell_type": "code",
      "source": [
        "def load_model(model, load_path=Config.INPUT_MODEL_FILE):\n",
        "    model.load_state_dict(torch.load(load_path))\n",
        "    model.eval()\n",
        "    \n",
        "def save_weights(model, save_path=Config.OUTPUT_MODEL_FILE):\n",
        "    torch.save(model.state_dict(), save_path)\n",
        "\n",
        "def create_model(pretrained=True):\n",
        "    model = torchvision.models.resnet50(pretrained=pretrained).to(Config.DEVICE)\n",
        "    \n",
        "    for param in model.layer1.parameters():\n",
        "        param.requires_grad = False\n",
        "        \n",
        "    for param in model.layer2.parameters():\n",
        "        param.requires_grad = False  \n",
        "        \n",
        "    for param in model.layer3.parameters():\n",
        "        param.requires_grad = False \n",
        "    \n",
        "    model.fc = torch.nn.Sequential(\n",
        "        torch.nn.Linear(\n",
        "            in_features=model.fc.in_features,\n",
        "            out_features=Config.N_CLASSES\n",
        "        ),\n",
        "        torch.nn.Sigmoid()\n",
        "    ).to(Config.DEVICE)\n",
        "    \n",
        "    return model"
      ],
      "metadata": {
        "id": "xvBVKI3v73E2"
      },
      "execution_count": 24,
      "outputs": []
    },
    {
      "cell_type": "code",
      "source": [
        "model = create_model(pretrained=True).to(Config.DEVICE);"
      ],
      "metadata": {
        "colab": {
          "base_uri": "https://localhost:8080/",
          "height": 67,
          "referenced_widgets": [
            "4aafd0abcb44451393f9d1dd023c419e",
            "fd5905358bca4bd9abfac13b0d951a3c",
            "a6a047d5b9e2492e8f3f83fbdb73ca89",
            "00911da7cb2f48deaca5f7d8df6769a9",
            "6e49bbe3084f46acb75d74f687b6d8ce",
            "8ca766cbbabf46ecadbd46ac9b3f7895",
            "9960282ec7894a9b9f1b0a352a1d1822",
            "e570d2171b6b41ad9bec0bc1245715be",
            "ff8822fb004d47459489bba24932d01c",
            "38369c42963644c1b281ea60f467993a",
            "81c7c80801234d47827f6d81258fabe9"
          ]
        },
        "id": "ErNJImO5751x",
        "outputId": "b018f807-6eff-4f5c-d919-066cde9dc91a"
      },
      "execution_count": 25,
      "outputs": [
        {
          "output_type": "stream",
          "name": "stderr",
          "text": [
            "Downloading: \"https://download.pytorch.org/models/resnet50-0676ba61.pth\" to /root/.cache/torch/hub/checkpoints/resnet50-0676ba61.pth\n"
          ]
        },
        {
          "output_type": "display_data",
          "data": {
            "application/vnd.jupyter.widget-view+json": {
              "model_id": "4aafd0abcb44451393f9d1dd023c419e",
              "version_minor": 0,
              "version_major": 2
            },
            "text/plain": [
              "  0%|          | 0.00/97.8M [00:00<?, ?B/s]"
            ]
          },
          "metadata": {}
        }
      ]
    },
    {
      "cell_type": "code",
      "source": [
        "class MetricMonitor:\n",
        "    def __init__(self):\n",
        "        self.reset()\n",
        "\n",
        "    def reset(self):\n",
        "        self.losses = []\n",
        "        self.accuracies = []\n",
        "        self.scores = []\n",
        "        self.metrics = dict({\n",
        "            'loss': self.losses,\n",
        "            'acc': self.accuracies,\n",
        "            'f1': self.scores\n",
        "        })\n",
        "\n",
        "    def update(self, metric_name, value):\n",
        "        self.metrics[metric_name] += [value]"
      ],
      "metadata": {
        "id": "dvRz0WyH77GF"
      },
      "execution_count": 26,
      "outputs": []
    },
    {
      "cell_type": "code",
      "source": [
        "from sklearn.metrics import f1_score, accuracy_score\n",
        "\n",
        "def get_metrics(\n",
        "    y_pred_proba, \n",
        "    y_test, \n",
        "    threshold=Config.CLASS_THRESHOLD,\n",
        "    labels=Config.CLASSES) -> None:\n",
        "    \"\"\"\n",
        "    \"\"\"\n",
        "    y_pred = np.where(y_pred_proba > threshold, 1, 0)\n",
        "\n",
        "    y1 = y_pred.round().astype(np.float)\n",
        "    y2 = y_test.round().astype(np.float)\n",
        "    \n",
        "    f1 = f1_score(y1, y2, average='micro')\n",
        "    acc = accuracy_score(y1, y2, normalize=True)\n",
        "\n",
        "    return acc, f1"
      ],
      "metadata": {
        "id": "j9h6E6et7_Ga"
      },
      "execution_count": 27,
      "outputs": []
    },
    {
      "cell_type": "markdown",
      "source": [
        "# Hyper parametrs serching"
      ],
      "metadata": {
        "id": "ANtfdYp3DMZ0"
      }
    },
    {
      "cell_type": "code",
      "source": [
        "from torch.utils.tensorboard import SummaryWriter\n",
        "\n",
        "def hyper_parameter_search(lr_list, bs_list): \n",
        "        step = 0\n",
        "        for batch_size in bs_list:\n",
        "          for learning_rate in lr_list:\n",
        "              model = create_model(pretrained=True).to(Config.DEVICE);\n",
        "              criterion = torch.nn.MultiLabelSoftMarginLoss().cuda()\n",
        "              optimizer = optim.Adam(model.parameters(), lr=learning_rate)\n",
        "\n",
        "              train_set = PlantDataset(X_train, y_train, transform=train_transform, kind='train')\n",
        "              train_loader = DataLoader(train_set, batch_size=batch_size, shuffle=True)\n",
        "              train_monitor = MetricMonitor()\n",
        "\n",
        "              writer = SummaryWriter(f'runs/Board/minibatch {batch_size} LR {learning_rate}')\n",
        "              training_loop(train_loader,model,criterion,optimizer,0,train_monitor)\n",
        "              writer.add_scalar('Training Loss', train_monitor.losses[0],global_step=step)\n",
        "              writer.add_scalar('Training F1', train_monitor.scores[0],global_step=step)\n",
        "              step += 1"
      ],
      "metadata": {
        "id": "j80-EuTsC5tm"
      },
      "execution_count": null,
      "outputs": []
    },
    {
      "cell_type": "markdown",
      "source": [
        "# How to create VGG19 model"
      ],
      "metadata": {
        "id": "iMEj4thIDRsn"
      }
    },
    {
      "cell_type": "code",
      "source": [
        "def create_model_vgg19(pretrained=True):\n",
        "    model = torchvision.models.vgg19_bn(pretrained=True).to(Config.DEVICE)\n",
        "    \n",
        "    for i in range(len(model.classifier)-1):\n",
        "         for param in model.classifier[i].parameters():\n",
        "             param.requires_grad = False\n",
        "    \n",
        "    model.classifier[6] = nn.Linear(4096, Config.N_CLASSES)  \n",
        "    \n",
        "    return model\n"
      ],
      "metadata": {
        "id": "i_uRNto8DK8R"
      },
      "execution_count": null,
      "outputs": []
    },
    {
      "cell_type": "markdown",
      "source": [
        "# How to create Logistic Regression model "
      ],
      "metadata": {
        "id": "RQrnybzxEDY5"
      }
    },
    {
      "cell_type": "code",
      "source": [
        "class LogisticRegression(torch.nn.Module):\n",
        "    def __init__(self, input_dim, output_dim):\n",
        "        super(LogisticRegression, self).__init__()\n",
        "        self.linear = torch.nn.Linear(input_dim, output_dim)\n",
        "\n",
        "    def forward(self, x):\n",
        "        outputs = self.linear(x)\n",
        "        return outputs\n"
      ],
      "metadata": {
        "id": "mku7kk_PEF9i"
      },
      "execution_count": null,
      "outputs": []
    },
    {
      "cell_type": "markdown",
      "source": [
        "# training"
      ],
      "metadata": {
        "id": "RkBOw_-UEPa9"
      }
    },
    {
      "cell_type": "code",
      "source": [
        "def training_loop(\n",
        "    dataloader, \n",
        "    model, \n",
        "    loss_fn, \n",
        "    optimizer, \n",
        "    epoch, \n",
        "    monitor = MetricMonitor(), \n",
        "    is_train=True\n",
        ") -> None:\n",
        "    \"\"\"\n",
        "    \"\"\"\n",
        "    size = len(dataloader.dataset)\n",
        "    \n",
        "    loss_val = 0\n",
        "    accuracy = 0\n",
        "    f1score = 0\n",
        "    \n",
        "    if is_train:\n",
        "        model.train()\n",
        "    else:\n",
        "        model.eval()\n",
        "    \n",
        "    stream = tqdm(dataloader)\n",
        "    for batch, (X, y) in enumerate(stream, start=1):\n",
        "        X = X.to(Config.DEVICE)\n",
        "        y = y.to(Config.DEVICE)\n",
        "        \n",
        "        # compute prediction and loss\n",
        "        pred_prob = model(X)\n",
        "        loss = loss_fn(pred_prob, y)\n",
        "    \n",
        "        if is_train:\n",
        "            # backpropagation\n",
        "            optimizer.zero_grad()\n",
        "            loss.backward()\n",
        "            optimizer.step()\n",
        "\n",
        "        \n",
        "        loss_val += loss.item()\n",
        "        acc, f1 = get_metrics(to_numpy(pred_prob), to_numpy(y))\n",
        "        \n",
        "        accuracy += acc \n",
        "        f1score += f1\n",
        "\n",
        "        phase = 'Train' if is_train else 'Val'\n",
        "        stream.set_description(\n",
        "            f'Epoch {epoch:3d}/{Config.N_EPOCH} - {phase} - Loss: {loss_val/batch:.4f}, ' + \n",
        "            f'Acc: {accuracy/batch:.4f}, F1: {f1score/batch:.4f}'\n",
        "        )\n",
        "\n",
        "    monitor.update('loss', loss_val/batch)\n",
        "    monitor.update('acc', accuracy/batch)\n",
        "    monitor.update('f1', f1score/batch) "
      ],
      "metadata": {
        "id": "iefhEESJ8B3b"
      },
      "execution_count": 28,
      "outputs": []
    },
    {
      "cell_type": "code",
      "source": [
        "train_monitor = MetricMonitor()\n",
        "test_monitor = MetricMonitor()"
      ],
      "metadata": {
        "id": "JvFvdiSB8Fb2"
      },
      "execution_count": 29,
      "outputs": []
    },
    {
      "cell_type": "code",
      "source": [
        "# initialize the loss function\n",
        "loss_fn = nn.MultiLabelSoftMarginLoss()\n",
        "\n",
        "optimizer = torch.optim.Adam(\n",
        "    model.parameters(),\n",
        "    lr=Config.LEARNING_RATE\n",
        ")"
      ],
      "metadata": {
        "id": "NO7T2VSv8GvJ"
      },
      "execution_count": 30,
      "outputs": []
    },
    {
      "cell_type": "code",
      "source": [
        "%%time\n",
        "\n",
        "for epoch in range(1, Config.N_EPOCH + 1):\n",
        "    # training loop\n",
        "    training_loop(\n",
        "        train_loader, \n",
        "        model, \n",
        "        loss_fn, \n",
        "        optimizer, \n",
        "        epoch, \n",
        "        train_monitor,\n",
        "        is_train=True\n",
        "    )\n",
        "    \n",
        "    # validation loop\n",
        "    training_loop(\n",
        "        valid_loader, \n",
        "        model, \n",
        "        loss_fn, \n",
        "        optimizer, \n",
        "        epoch, \n",
        "        test_monitor,\n",
        "        is_train=False\n",
        "    )"
      ],
      "metadata": {
        "id": "nCn9wnaTG2DF"
      },
      "execution_count": null,
      "outputs": []
    },
    {
      "cell_type": "code",
      "source": [
        "from matplotlib.ticker import MaxNLocator \n",
        "\n",
        "def plot_result(\n",
        "    train_losses, \n",
        "    test_losses, \n",
        "    train_accuracies, \n",
        "    test_accuracies, \n",
        "    train_scores,\n",
        "    test_scores\n",
        ") -> None:\n",
        "    \n",
        "    epochs = range(1, len(train_losses) + 1)\n",
        "    fig, ax = plt.subplots(nrows=1, ncols=3, figsize=(22, 5))\n",
        "    \n",
        "    # plot loss values\n",
        "    ax[0].plot(epochs, train_losses, label='Training loss', marker ='o')\n",
        "    ax[0].plot(epochs, test_losses, label='Validation loss', marker ='o')\n",
        "    ax[0].legend(frameon=False, fontsize=14)\n",
        "    \n",
        "    ax[0].get_xaxis().set_major_locator(MaxNLocator(integer=True))\n",
        "    ax[0].set_title('Loss', fontsize=18)\n",
        "    ax[0].set_xlabel('Epoch', fontsize=14) \n",
        "    ax[0].set_ylabel('Loss', fontsize=14)  \n",
        "    \n",
        "    # plot accuracies \n",
        "    ax[1].plot(epochs, train_accuracies, label='Training Accuracy', marker ='o')\n",
        "    ax[1].plot(epochs, test_accuracies, label='Validation accuracy', marker ='o')\n",
        "    ax[1].legend(frameon=False, fontsize=14)\n",
        "    \n",
        "    ax[1].get_xaxis().set_major_locator(MaxNLocator(integer=True))\n",
        "    ax[1].set_title('Accuracy', fontsize=18)\n",
        "    ax[1].set_xlabel('Epoch', fontsize=14) \n",
        "    ax[1].set_ylabel('Accuracy', fontsize=14)\n",
        "    \n",
        "    ax[2].plot(epochs, train_scores, label='Training F1-Score', marker ='o')\n",
        "    ax[2].plot(epochs, test_scores, label='Validation F1-Score', marker ='o')\n",
        "    ax[2].legend(frameon=False, fontsize=14)\n",
        "    \n",
        "    ax[2].get_xaxis().set_major_locator(MaxNLocator(integer=True))\n",
        "    ax[2].set_title('F1-Score', fontsize=18)\n",
        "    ax[2].set_xlabel('Epoch', fontsize=14) \n",
        "    ax[2].set_ylabel('F1-Score', fontsize=14) \n",
        "        \n",
        "    plt.show()"
      ],
      "metadata": {
        "id": "9cePd5LT8LHC"
      },
      "execution_count": null,
      "outputs": []
    },
    {
      "cell_type": "code",
      "source": [
        "\n",
        "\n",
        "plot_result(\n",
        "    train_monitor.losses, \n",
        "    test_monitor.losses,\n",
        "    train_monitor.accuracies, \n",
        "    test_monitor.accuracies, \n",
        "    train_monitor.scores,\n",
        "    test_monitor.scores\n",
        ")    \n",
        "\n"
      ],
      "metadata": {
        "id": "Ei3RrExc8aWZ"
      },
      "execution_count": null,
      "outputs": []
    },
    {
      "cell_type": "code",
      "source": [
        "batch = Config.BATCH_SIZE\n",
        "\n",
        "y_true = np.empty(shape=(0, 6), dtype=np.int)\n",
        "y_pred_proba = np.empty(shape=(0, 6), dtype=np.int)\n",
        "\n",
        "stream = tqdm(valid_loader)\n",
        "for batch, (X, y) in enumerate(stream, start=1):\n",
        "    X = X.to(Config.DEVICE)\n",
        "    y = to_numpy(y.to(Config.DEVICE))\n",
        "    pred = to_numpy(model(X))\n",
        "    \n",
        "    y_true = np.vstack((y_true, y))\n",
        "    y_pred_proba = np.vstack((y_pred_proba, pred))"
      ],
      "metadata": {
        "id": "PqDLAvPe8bp5"
      },
      "execution_count": null,
      "outputs": []
    },
    {
      "cell_type": "code",
      "source": [
        "from sklearn.metrics import multilabel_confusion_matrix\n",
        "\n",
        "def plot_confusion_matrix(\n",
        "    y_test, \n",
        "    y_pred_proba, \n",
        "    threshold=Config.CLASS_THRESHOLD, \n",
        "    label_names=Config.CLASSES\n",
        ")-> None:\n",
        "    \"\"\"\n",
        "    \"\"\"\n",
        "    y_pred = np.where(y_pred_proba > threshold, 1, 0)\n",
        "    c_matrices = multilabel_confusion_matrix(y_test, y_pred)\n",
        "    \n",
        "    cmap = plt.get_cmap('Blues')\n",
        "    fig, axes = plt.subplots(nrows=2, ncols=3, figsize=(15, 8))\n",
        "\n",
        "    for cm, label, ax in zip(c_matrices, label_names, axes.flatten()):\n",
        "        sns.heatmap(cm, annot=True, fmt='g', ax=ax, cmap=cmap);\n",
        "\n",
        "        ax.set_xlabel('Predicted labels');\n",
        "        ax.set_ylabel('True labels'); \n",
        "        ax.set_title(f'{label}');\n",
        "\n",
        "    plt.tight_layout()    \n",
        "    plt.show()"
      ],
      "metadata": {
        "id": "ZTmO_7BQ8t67"
      },
      "execution_count": null,
      "outputs": []
    },
    {
      "cell_type": "code",
      "source": [
        "plot_confusion_matrix(y_true, y_pred_proba)    "
      ],
      "metadata": {
        "id": "o-XzG-O28v8u"
      },
      "execution_count": null,
      "outputs": []
    },
    {
      "cell_type": "code",
      "source": [
        "save_weights(model, '/content/drive/MyDrive/Colab Notebooks/Plant_Pathology/weights/plant2021_cuda.pth')"
      ],
      "metadata": {
        "id": "ZnffAxyy8x-z"
      },
      "execution_count": null,
      "outputs": []
    },
    {
      "cell_type": "code",
      "source": [
        ""
      ],
      "metadata": {
        "id": "cOAO804M-oqy"
      },
      "execution_count": null,
      "outputs": []
    }
  ]
}